{
  "cells": [
    {
      "cell_type": "markdown",
      "metadata": {
        "id": "view-in-github",
        "colab_type": "text"
      },
      "source": [
        "<a href=\"https://colab.research.google.com/github/OlekRomanko/teaching/blob/master/Responding_to_emails.ipynb\" target=\"_parent\"><img src=\"https://colab.research.google.com/assets/colab-badge.svg\" alt=\"Open In Colab\"/></a>"
      ]
    },
    {
      "cell_type": "markdown",
      "metadata": {
        "id": "365SCJzB9H0i"
      },
      "source": [
        "# Responding to emails with ChatGPT\n"
      ]
    },
    {
      "cell_type": "markdown",
      "metadata": {
        "id": "7PXL6SOT9H0m"
      },
      "source": [
        "#### Import Python libraries"
      ]
    },
    {
      "cell_type": "code",
      "execution_count": 2,
      "metadata": {
        "id": "3KuqKYPU9H0n"
      },
      "outputs": [],
      "source": [
        "# imports\n",
        "try:\n",
        "    import openai\n",
        "except ImportError:\n",
        "    !pip install openai\n",
        "    import openai\n",
        "import os\n",
        "import requests"
      ]
    },
    {
      "cell_type": "code",
      "source": [
        "## Insert your OpenAI API key\n",
        "openai.api_key = \"INSER_YOUR_API\""
      ],
      "metadata": {
        "id": "vxOa8dSv-i_r"
      },
      "execution_count": 3,
      "outputs": []
    },
    {
      "cell_type": "markdown",
      "metadata": {
        "id": "LQnzT-Ty9H0o"
      },
      "source": [
        "#### Load email history"
      ]
    },
    {
      "cell_type": "code",
      "execution_count": 4,
      "metadata": {
        "colab": {
          "base_uri": "https://localhost:8080/"
        },
        "id": "9Xthu4fL9H0p",
        "outputId": "18ac0038-8795-405f-e641-da829cda34f6"
      },
      "outputs": [
        {
          "output_type": "stream",
          "name": "stdout",
          "text": [
            "Email 1: Initial Contact\n",
            "\n",
            "From: University Dean\n",
            "To: Wonderful AI Representatives\n",
            "\n",
            "Dear Wonderful AI Representatives,\n",
            "\n",
            "I hope this email finds you well. I am writing to explore the possibility of estab\n"
          ]
        }
      ],
      "source": [
        "filename_emails = \"internship_emails.txt\"\n",
        "\n",
        "# Define the URL of the file on GitHub\n",
        "url = 'https://raw.githubusercontent.com/OlekRomanko/teaching/master/datasets/internship_emails.txt'\n",
        "\n",
        "# Send a GET request to the URL to retrieve the file contents\n",
        "response = requests.get(url)\n",
        "\n",
        "# If the request was successful, write the file contents to a local file\n",
        "if response.status_code == 200:\n",
        "    with open(filename_emails, 'wb') as f:\n",
        "        f.write(response.content)\n",
        "\n",
        "with open(filename_emails, \"r\") as f:\n",
        "    email_contents = f.read()\n",
        "\n",
        "print(email_contents[:200])"
      ]
    },
    {
      "cell_type": "markdown",
      "metadata": {
        "id": "9D3nOdsD9H0r"
      },
      "source": [
        "#### ChatGPT prompt #1"
      ]
    },
    {
      "cell_type": "code",
      "execution_count": 5,
      "metadata": {
        "id": "jLOUvPAb9H0r"
      },
      "outputs": [],
      "source": [
        "prompt1 = 'Please create a responce based on the email messages: \"{input}\"'"
      ]
    },
    {
      "cell_type": "code",
      "execution_count": 6,
      "metadata": {
        "colab": {
          "base_uri": "https://localhost:8080/"
        },
        "id": "j6LnqvGq9H0r",
        "outputId": "c9af001f-36f3-45ab-def6-52aa9e435d0f"
      },
      "outputs": [
        {
          "output_type": "stream",
          "name": "stdout",
          "text": [
            "Please create a responce based on the email messages: \"Email 1: Initial Contact\n",
            "\n",
            "From: University Dean\n",
            "To: Wonderful AI Representatives\n",
            "\n",
            "Dear Wonderful AI Representatives,\n",
            "\n",
            "I hope this email finds you well. I am writing to explore the possibility of establishing an internship program for our university students at Wonderful AI. We believe that this program will provide our students with valuable hands-on experience in the field of AI and machine learning, while also benefiting your company by pr\n"
          ]
        }
      ],
      "source": [
        "prompt = prompt1.format(input=email_contents)\n",
        "print(prompt[:500])"
      ]
    },
    {
      "cell_type": "code",
      "execution_count": 7,
      "metadata": {
        "id": "bX02FSG79H0s"
      },
      "outputs": [],
      "source": [
        "response = openai.ChatCompletion.create(\n",
        "    model=\"gpt-3.5-turbo\",\n",
        "    messages=[\n",
        "    {\"role\": \"system\", \"content\": \"You are a helpful  assistant.\"},\n",
        "    {\"role\": \"user\", \"content\": prompt},\n",
        "    ],\n",
        "    max_tokens=1024,\n",
        "    n=1,\n",
        "    stop=None,\n",
        "    temperature=0.5,\n",
        ")"
      ]
    },
    {
      "cell_type": "code",
      "execution_count": 8,
      "metadata": {
        "colab": {
          "base_uri": "https://localhost:8080/"
        },
        "id": "N3zaaLd59H0s",
        "outputId": "58207515-65ba-4b60-8432-2d041f8724b3"
      },
      "outputs": [
        {
          "output_type": "stream",
          "name": "stdout",
          "text": [
            "Dear University Dean,\n",
            "\n",
            "I am glad to see that the internship program for your students at Wonderful AI has been successfully launched. We are excited to work with the selected students and provide them with hands-on experience in the field of AI and machine learning.\n",
            "\n",
            "We appreciate the opportunity to collaborate with your university and contribute to the education and career development of your students. We hope that this program will benefit both our company and your students.\n",
            "\n",
            "Please let us know if there is anything else we can do to support the program.\n",
            "\n",
            "Best regards,\n",
            "[Name], Wonderful AI Representatives\n"
          ]
        }
      ],
      "source": [
        "if response[\"choices\"][0][\"finish_reason\"] == \"error\":\n",
        "    print(f\"Error: {response['choices'][0]['text']}\")\n",
        "else:\n",
        "    output1 = response['choices'][0]['message']['content']\n",
        "    print(output1)"
      ]
    },
    {
      "cell_type": "markdown",
      "metadata": {
        "id": "m-yfW1U49H0t"
      },
      "source": [
        "#### ChatGPT prompt #2"
      ]
    },
    {
      "cell_type": "code",
      "execution_count": 9,
      "metadata": {
        "id": "E77Q1E5Y9H0t"
      },
      "outputs": [],
      "source": [
        "prompt2 = 'Please create a responce from the university dean to the company based on the previous email messages: \"{input}\"'"
      ]
    },
    {
      "cell_type": "code",
      "execution_count": 10,
      "metadata": {
        "colab": {
          "base_uri": "https://localhost:8080/"
        },
        "id": "_hUHz_f49H0t",
        "outputId": "36b646d2-0bdc-4f10-c8bf-7faf97e2a110"
      },
      "outputs": [
        {
          "output_type": "stream",
          "name": "stdout",
          "text": [
            "Please create a responce from the university dean to the company based on the previous email messages: \"Email 1: Initial Contact\n",
            "\n",
            "From: University Dean\n",
            "To: Wonderful AI Representatives\n",
            "\n",
            "Dear Wonderful AI Representatives,\n",
            "\n",
            "I hope this email finds you well. I am writing to explore the possibility of establishing an internship program for our university students at Wonderful AI. We believe that this program will provide our students with valuable hands-on experience in the field of AI and machine l\n"
          ]
        }
      ],
      "source": [
        "prompt = prompt2.format(input=email_contents)\n",
        "print(prompt[:500])"
      ]
    },
    {
      "cell_type": "code",
      "execution_count": 11,
      "metadata": {
        "id": "YHHQ1QSL9H0t"
      },
      "outputs": [],
      "source": [
        "response = openai.ChatCompletion.create(\n",
        "    model=\"gpt-3.5-turbo\",\n",
        "    messages=[\n",
        "    {\"role\": \"system\", \"content\": \"You are a helpful  assistant.\"},\n",
        "    {\"role\": \"user\", \"content\": prompt},\n",
        "    ],\n",
        "    max_tokens=1024,\n",
        "    n=1,\n",
        "    stop=None,\n",
        "    temperature=0.5,\n",
        ")"
      ]
    },
    {
      "cell_type": "code",
      "execution_count": 12,
      "metadata": {
        "colab": {
          "base_uri": "https://localhost:8080/"
        },
        "id": "2eW-xb1h9H0u",
        "outputId": "79f1f01d-b538-4b2a-b05d-c0e9299328bc"
      },
      "outputs": [
        {
          "output_type": "stream",
          "name": "stdout",
          "text": [
            "Dear [Name], \n",
            "\n",
            "I am writing to express my gratitude for your support in establishing the internship program for our students at Wonderful AI. Your team has been instrumental in making this program a success, and we are thrilled to see the results of our collaboration.\n",
            "\n",
            "The structure proposed for the program has been well received by our students, and their dedication and enthusiasm for the project assigned by your company is commendable. We are confident that this hands-on experience in the field of AI and machine learning will provide them with valuable insights and skills that will benefit them in their future careers.\n",
            "\n",
            "We appreciate the coordination and logistics provided by your team, which has ensured a smooth process throughout the program. We hope that this partnership will continue to thrive in the future, as we work towards providing our students with more opportunities to gain practical experience in their fields of interest.\n",
            "\n",
            "Thank you once again for your support and commitment to our students. \n",
            "\n",
            "Best regards, \n",
            "[Name], University Dean\n"
          ]
        }
      ],
      "source": [
        "if response[\"choices\"][0][\"finish_reason\"] == \"error\":\n",
        "    print(f\"Error: {response['choices'][0]['text']}\")\n",
        "else:\n",
        "    output2 = response['choices'][0]['message']['content']\n",
        "    print(output2)"
      ]
    },
    {
      "cell_type": "markdown",
      "metadata": {
        "id": "o289vVK49H0u"
      },
      "source": [
        "#### ChatGPT prompt #3"
      ]
    },
    {
      "cell_type": "code",
      "execution_count": 13,
      "metadata": {
        "id": "zHaqLGF39H0u"
      },
      "outputs": [],
      "source": [
        "prompt3 = 'You are a student representing university graduate student association. University and company propose an internship program based on negotiations in the previous email messages. Please propose program extensions that would be beneficial to students: \"{input}\"'"
      ]
    },
    {
      "cell_type": "code",
      "execution_count": 14,
      "metadata": {
        "colab": {
          "base_uri": "https://localhost:8080/"
        },
        "id": "FaorZjPG9H0u",
        "outputId": "26654197-eed4-4832-c461-4dfa6a7113af"
      },
      "outputs": [
        {
          "output_type": "stream",
          "name": "stdout",
          "text": [
            "You are a student representing university graduate student association. University and company propose an internship program based on negotiations in the previous email messages. Please propose program extensions that would be beneficial to students: \"Email 1: Initial Contact\n",
            "\n",
            "From: University Dean\n",
            "To: Wonderful AI Representatives\n",
            "\n",
            "Dear Wonderful AI Representatives,\n",
            "\n",
            "I hope this email finds you well. I am writing to explore the possibility of establishing an internship program for our university\n"
          ]
        }
      ],
      "source": [
        "prompt = prompt3.format(input=email_contents)\n",
        "print(prompt[:500])"
      ]
    },
    {
      "cell_type": "code",
      "execution_count": 15,
      "metadata": {
        "id": "6C4kbpGi9H0u"
      },
      "outputs": [],
      "source": [
        "response = openai.ChatCompletion.create(\n",
        "    model=\"gpt-3.5-turbo\",\n",
        "    messages=[\n",
        "    {\"role\": \"system\", \"content\": \"You are a helpful  assistant.\"},\n",
        "    {\"role\": \"user\", \"content\": prompt},\n",
        "    ],\n",
        "    max_tokens=2048,\n",
        "    n=1,\n",
        "    stop=None,\n",
        "    temperature=0.5,\n",
        ")"
      ]
    },
    {
      "cell_type": "code",
      "execution_count": 16,
      "metadata": {
        "colab": {
          "base_uri": "https://localhost:8080/"
        },
        "id": "4oGJOv789H0v",
        "outputId": "88cec74b-2ba1-47a0-eb9a-d28b03f0e7e6"
      },
      "outputs": [
        {
          "output_type": "stream",
          "name": "stdout",
          "text": [
            "Dear University Dean and Wonderful AI Representatives,\n",
            "\n",
            "I am excited to hear about the launch of the internship program for university students at Wonderful AI. As a representative of the university graduate student association, I would like to propose some program extensions that would be beneficial to graduate students:\n",
            "\n",
            "1. Research Opportunities: Graduate students often have research interests in AI and machine learning. Providing opportunities for graduate interns to work on research projects in addition to the assigned project would be beneficial.\n",
            "\n",
            "2. Professional Development: In addition to the technical skills, graduate students are interested in enhancing their professional skills. Providing opportunities for graduate interns to participate in workshops, seminars, and networking events would be beneficial.\n",
            "\n",
            "3. Mentorship Program: Graduate students would benefit from mentorship opportunities with senior professionals in the AI industry. Providing dedicated mentorship opportunities for graduate interns would be beneficial.\n",
            "\n",
            "We appreciate your consideration of these program extensions, and we look forward to a successful internship program.\n",
            "\n",
            "Best regards,\n",
            "[Name], University Graduate Student Association Representative\n"
          ]
        }
      ],
      "source": [
        "if response[\"choices\"][0][\"finish_reason\"] == \"error\":\n",
        "    print(f\"Error: {response['choices'][0]['text']}\")\n",
        "else:\n",
        "    output3 = response['choices'][0]['message']['content']\n",
        "    print(output3)"
      ]
    }
  ],
  "metadata": {
    "kernelspec": {
      "display_name": "Python 3 (ipykernel)",
      "language": "python",
      "name": "python3"
    },
    "language_info": {
      "codemirror_mode": {
        "name": "ipython",
        "version": 3
      },
      "file_extension": ".py",
      "mimetype": "text/x-python",
      "name": "python",
      "nbconvert_exporter": "python",
      "pygments_lexer": "ipython3",
      "version": "3.9.16"
    },
    "vscode": {
      "interpreter": {
        "hash": "365536dcbde60510dc9073d6b991cd35db2d9bac356a11f5b64279a5e6708b97"
      }
    },
    "colab": {
      "provenance": [],
      "include_colab_link": true
    }
  },
  "nbformat": 4,
  "nbformat_minor": 0
}